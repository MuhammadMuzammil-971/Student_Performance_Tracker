{
  "nbformat": 4,
  "nbformat_minor": 0,
  "metadata": {
    "colab": {
      "provenance": []
    },
    "kernelspec": {
      "name": "python3",
      "display_name": "Python 3"
    },
    "language_info": {
      "name": "python"
    }
  },
  "cells": [
    {
      "cell_type": "code",
      "source": [
        "class Student:\n",
        "    def _init_(self, name, scores):\n",
        "        self.name = name\n",
        "        self.scores = scores\n",
        "\n",
        "    def calculate_average(self):\n",
        "        return sum(self.scores) / len(self.scores)\n",
        "\n",
        "    def is_passing(self, passing_score=40):\n",
        "        return all(score >= passing_score for score in self.scores)\n",
        "\n",
        "\n",
        "class PerformanceTracker:\n",
        "    def _init_(self):\n",
        "        self.students = {}\n",
        "\n",
        "    def add_student(self, name, scores):\n",
        "        self.students[name] = Student(name, scores)\n",
        "\n",
        "    def calculate_class_average(self):\n",
        "        if not self.students:\n",
        "            return 0\n",
        "        total_scores = sum(student.calculate_average() for student in self.students.values())\n",
        "        return total_scores / len(self.students)\n",
        "\n",
        "    def display_student_performance(self):\n",
        "        for student in self.students.values():\n",
        "            average = student.calculate_average()\n",
        "            status = \"Passing\" if student.is_passing() else \"Failing\"\n",
        "            print(f\"Student: {student.name}, Average Score: {average:.2f}, Status: {status}\")\n",
        "\n",
        "\n",
        "def main():\n",
        "    tracker = PerformanceTracker()\n",
        "    print(\"Welcome to the Student Performance Tracker!\")\n",
        "\n",
        "    while True:\n",
        "        try:\n",
        "            name = input(\"Enter the student's name (or type 'done' to finish): \").strip()\n",
        "            if name.lower() == 'done':\n",
        "                break\n",
        "            scores = []\n",
        "            for subject in [\"Math\", \"Science\", \"English\"]:\n",
        "                while True:\n",
        "                    try:\n",
        "                        score = int(input(f\"Enter {name}'s score in {subject}: \"))\n",
        "                        if 0 <= score <= 100:\n",
        "                            scores.append(score)\n",
        "                            break\n",
        "                        else:\n",
        "                            print(\"Please enter a score between 0 and 100.\")\n",
        "                    except ValueError:\n",
        "                        print(\"Invalid input. Please enter a valid integer.\")\n",
        "            tracker.add_student(name, scores)\n",
        "        except Exception as e:\n",
        "            print(f\"An error occurred: {e}\")\n",
        "\n",
        "    print(\"\\nStudent Performance Report:\")\n",
        "    tracker.display_student_performance()\n",
        "\n",
        "    class_average = tracker.calculate_class_average()\n",
        "    print(f\"\\nClass Average Score: {class_average:.2f}\")\n",
        "\n",
        "    print(\"Thank you for using the Student Performance Tracker!\")\n",
        "\n",
        "\n",
        "\n"
      ],
      "metadata": {
        "id": "ZXR3VjL2YpBi"
      },
      "execution_count": null,
      "outputs": []
    },
    {
      "cell_type": "code",
      "source": [],
      "metadata": {
        "id": "I0V5v7Dx29os"
      },
      "execution_count": null,
      "outputs": []
    }
  ]
}